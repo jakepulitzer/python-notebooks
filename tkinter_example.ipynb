{
 "cells": [
  {
   "cell_type": "code",
   "execution_count": 3,
   "metadata": {},
   "outputs": [
    {
     "name": "stdout",
     "output_type": "stream",
     "text": [
      "Im python, nice too meet you, Jake\n"
     ]
    }
   ],
   "source": [
    "name = input('What is your name?:')\n",
    "print(\"Im python, nice too meet you,\", name)"
   ]
  },
  {
   "cell_type": "code",
   "execution_count": 24,
   "metadata": {},
   "outputs": [
    {
     "name": "stdout",
     "output_type": "stream",
     "text": [
      "                      Journey_Name  Version  \\\n",
      "0  PROD_AMI New Meter Post Install       12   \n",
      "1  PROD_AMI New Meter Post Install       12   \n",
      "2  PROD_AMI New Meter Post Install       12   \n",
      "3  PROD_AMI New Meter Post Install       12   \n",
      "4  PROD_AMI New Meter Post Install       12   \n",
      "\n",
      "                                       Activity_Name Date  \\\n",
      "0           PROD_AMI New Meter Post Install_Usage_MN  NaN   \n",
      "1           PROD_AMI New Meter Post Install_Usage_CO  NaN   \n",
      "2  PROD_AMI New Meter Post Install_Tips_TX - 2023...  NaN   \n",
      "3  PROD_AMI New Meter Post Install_Survey_TX - 20...  NaN   \n",
      "4  PROD_AMI New Meter Post Install_Survey_TX - 20...  NaN   \n",
      "\n",
      "                                          Email_Name  \\\n",
      "0  PROD_AMI New Meter Post Install_Usage_MN      ...   \n",
      "1  PROD_AMI New Meter Post Install_Usage_CO      ...   \n",
      "2  PROD_AMI New Meter Post Install_Savings_TX    ...   \n",
      "3  PROD_AMI New Meter Post Install_Survey_TX - 20...   \n",
      "4  PROD_AMI New Meter Post Install_Survey_TX - 20...   \n",
      "\n",
      "                                       Email_Subject  Total_Sent  \\\n",
      "0  Go green with your new smart meter            ...           0   \n",
      "1  Go green with your new smart meter            ...           0   \n",
      "2  Take Advantage of Energy-Saving Tips          ...           0   \n",
      "3  Penny for your thoughts?                      ...           0   \n",
      "4  Penny for your thoughts?                      ...           0   \n",
      "\n",
      "   Total_Delivered Delivery_Rate  Total_Bounces  ... Unique_Open_Rate  \\\n",
      "0                0         0.00%              0  ...            0.00%   \n",
      "1                0         0.00%              0  ...            0.00%   \n",
      "2                0         0.00%              0  ...            0.00%   \n",
      "3                0         0.00%              0  ...            0.00%   \n",
      "4                0         0.00%              0  ...            0.00%   \n",
      "\n",
      "   Unique_Mobile_Opens Unique_Mobile_Open_Rate  Total_Clicks Unique_Clicks  \\\n",
      "0                    0                   0.00%             0             0   \n",
      "1                    0                   0.00%             0             0   \n",
      "2                    0                   0.00%             0             0   \n",
      "3                    0                   0.00%             0             0   \n",
      "4                    0                   0.00%             0             0   \n",
      "\n",
      "   Unique_Click_Rate Total_Unsubscribes  Total_Unsubscribe_Rate  \\\n",
      "0              0.00%                  0                   0.00%   \n",
      "1              0.00%                  0                   0.00%   \n",
      "2              0.00%                  0                   0.00%   \n",
      "3              0.00%                  0                   0.00%   \n",
      "4              0.00%                  0                   0.00%   \n",
      "\n",
      "   Total_Conversions Conversion_Rate  \n",
      "0                  0           0.00%  \n",
      "1                  0           0.00%  \n",
      "2                  0           0.00%  \n",
      "3                  0           0.00%  \n",
      "4                  0           0.00%  \n",
      "\n",
      "[5 rows x 29 columns]\n",
      "C:\\Users\\302872\\Desktop\\py scripts\\post_and_pre\\2023-04-10_AMI Post Install Engagement.csv\n"
     ]
    }
   ],
   "source": [
    "# Import Module\n",
    "from tkinter import *\n",
    "import pandas as pd\n",
    " \n",
    "# create root window\n",
    "root = Tk()\n",
    "root.title(\"Example of GUI\")\n",
    "root.geometry('350x200')\n",
    "\n",
    "#adding a label to the root window\n",
    "lbl = Label(root, text = 'File Name:').pack()\n",
    "\n",
    "# add entry field\n",
    "t1 = Text(root, height=2, width=8)\n",
    "t1.pack()\n",
    "\n",
    "def value(t):\n",
    "    x=t1.get('1.0', 'end-1c')\n",
    "    return x\n",
    "def submit():\n",
    "    a = value(t1)\n",
    "    data = pd.read_csv(a)\n",
    "    df = data.copy()\n",
    "    print(df.head())\n",
    "    print(a)\n",
    "\n",
    "# button widget with red color text inside\n",
    "btn = Button(root, text= \"Submit\", fg= \"red\", command=submit).pack()\n",
    " \n",
    "# Execute Tkinter\n",
    "root.mainloop()"
   ]
  }
 ],
 "metadata": {
  "interpreter": {
   "hash": "b3ba2566441a7c06988d0923437866b63cedc61552a5af99d1f4fb67d367b25f"
  },
  "kernelspec": {
   "display_name": "Python 3.7.3 64-bit",
   "name": "python3"
  },
  "language_info": {
   "codemirror_mode": {
    "name": "ipython",
    "version": 3
   },
   "file_extension": ".py",
   "mimetype": "text/x-python",
   "name": "python",
   "nbconvert_exporter": "python",
   "pygments_lexer": "ipython3",
   "version": "3.7.3"
  },
  "orig_nbformat": 4
 },
 "nbformat": 4,
 "nbformat_minor": 2
}
