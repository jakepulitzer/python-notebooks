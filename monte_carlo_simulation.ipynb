{
 "cells": [
  {
   "cell_type": "markdown",
   "metadata": {},
   "source": [
    "## Monte Carlo Simulation Example\n",
    "\n",
    "### General steps to build a Monte Carlo simulation in Python Jupyter Notebooks:\n",
    "\n",
    "1. First, import the necessary Python libraries such as Numpy and Pandas.\n",
    "\n",
    "2. Load the historical data from your previous campaign into a Pandas dataframe.\n",
    "\n",
    "3. Calculate the key metrics for your campaign such as the response rate, conversion rate, and revenue per customer.\n",
    "\n",
    "4. Define the random variables for the simulation. These could include the number of emails or direct mail pieces sent, the response rate, the conversion rate, and the revenue per customer.\n",
    "\n",
    "5. Use Numpy's random number generator to create a series of random variables for each of the defined variables.\n",
    "\n",
    "6. Calculate the total revenue for each simulation by multiplying the number of customers by the revenue per customer.\n",
    "\n",
    "7. Repeat the simulation multiple times (e.g. 1000 times) to generate a distribution of possible outcomes.\n",
    "\n",
    "8. Visualize the distribution using a histogram or other chart to help you identify the most likely outcomes and the range of possible outcomes.\n",
    "\n",
    "9. Analyze the results and use them to guide your marketing decisions."
   ]
  },
  {
   "cell_type": "markdown",
   "metadata": {},
   "source": [
    "#### 1. Write to pandas df"
   ]
  },
  {
   "cell_type": "code",
   "execution_count": 1,
   "metadata": {},
   "outputs": [],
   "source": [
    "# import packages\n",
    "import pandas as pd\n",
    "import numpy as np\n",
    "\n",
    "# Load historical data into a Pandas dataframe\n",
    "# Note: THIS IS SAMPLE DATA\n",
    "data = pd.DataFrame({\n",
    "    'Email Cost': [4000, 4800, 6000],\n",
    "    'Direct Mail Cost': [2000, 2400, 3000],\n",
    "    'Social Cost': [1000, 1200, 1500],\n",
    "    'Paid Cost': [3000, 3600, 4500],\n",
    "    'Out of Home Cost': [2500, 3000, 3500],\n",
    "    'Radio Cost': [1500, 1800, 2000],\n",
    "    'Community Cost': [1000, 1200, 1500],\n",
    "    'Internal Cost': [500, 600, 750],\n",
    "    'Emails Sent': [10000, 12000, 15000],\n",
    "    'Direct Mail Sent': [5000, 6000, 7500],\n",
    "    'Responses': [1000, 1200, 1800],\n",
    "    'Conversions': [250, 300, 450]\n",
    "})"
   ]
  },
  {
   "cell_type": "markdown",
   "metadata": {},
   "source": [
    "#### 2. Define Variables for Monte Carlo Simulation"
   ]
  },
  {
   "cell_type": "code",
   "execution_count": 2,
   "metadata": {},
   "outputs": [
    {
     "data": {
      "text/html": [
       "<div>\n",
       "<style scoped>\n",
       "    .dataframe tbody tr th:only-of-type {\n",
       "        vertical-align: middle;\n",
       "    }\n",
       "\n",
       "    .dataframe tbody tr th {\n",
       "        vertical-align: top;\n",
       "    }\n",
       "\n",
       "    .dataframe thead th {\n",
       "        text-align: right;\n",
       "    }\n",
       "</style>\n",
       "<table border=\"1\" class=\"dataframe\">\n",
       "  <thead>\n",
       "    <tr style=\"text-align: right;\">\n",
       "      <th></th>\n",
       "      <th>Email Cost</th>\n",
       "      <th>Direct Mail Cost</th>\n",
       "      <th>Social Cost</th>\n",
       "      <th>Paid Cost</th>\n",
       "      <th>Out of Home Cost</th>\n",
       "      <th>Radio Cost</th>\n",
       "      <th>Community Cost</th>\n",
       "      <th>Internal Cost</th>\n",
       "      <th>Emails Sent</th>\n",
       "      <th>Direct Mail Sent</th>\n",
       "      <th>Responses</th>\n",
       "      <th>Conversions</th>\n",
       "    </tr>\n",
       "  </thead>\n",
       "  <tbody>\n",
       "    <tr>\n",
       "      <th>0</th>\n",
       "      <td>4000</td>\n",
       "      <td>2000</td>\n",
       "      <td>1000</td>\n",
       "      <td>3000</td>\n",
       "      <td>2500</td>\n",
       "      <td>1500</td>\n",
       "      <td>1000</td>\n",
       "      <td>500</td>\n",
       "      <td>10000</td>\n",
       "      <td>5000</td>\n",
       "      <td>1000</td>\n",
       "      <td>250</td>\n",
       "    </tr>\n",
       "    <tr>\n",
       "      <th>1</th>\n",
       "      <td>4800</td>\n",
       "      <td>2400</td>\n",
       "      <td>1200</td>\n",
       "      <td>3600</td>\n",
       "      <td>3000</td>\n",
       "      <td>1800</td>\n",
       "      <td>1200</td>\n",
       "      <td>600</td>\n",
       "      <td>12000</td>\n",
       "      <td>6000</td>\n",
       "      <td>1200</td>\n",
       "      <td>300</td>\n",
       "    </tr>\n",
       "    <tr>\n",
       "      <th>2</th>\n",
       "      <td>6000</td>\n",
       "      <td>3000</td>\n",
       "      <td>1500</td>\n",
       "      <td>4500</td>\n",
       "      <td>3500</td>\n",
       "      <td>2000</td>\n",
       "      <td>1500</td>\n",
       "      <td>750</td>\n",
       "      <td>15000</td>\n",
       "      <td>7500</td>\n",
       "      <td>1800</td>\n",
       "      <td>450</td>\n",
       "    </tr>\n",
       "  </tbody>\n",
       "</table>\n",
       "</div>"
      ],
      "text/plain": [
       "   Email Cost  Direct Mail Cost  Social Cost  Paid Cost  Out of Home Cost  \\\n",
       "0        4000              2000         1000       3000              2500   \n",
       "1        4800              2400         1200       3600              3000   \n",
       "2        6000              3000         1500       4500              3500   \n",
       "\n",
       "   Radio Cost  Community Cost  Internal Cost  Emails Sent  Direct Mail Sent  \\\n",
       "0        1500            1000            500        10000              5000   \n",
       "1        1800            1200            600        12000              6000   \n",
       "2        2000            1500            750        15000              7500   \n",
       "\n",
       "   Responses  Conversions  \n",
       "0       1000          250  \n",
       "1       1200          300  \n",
       "2       1800          450  "
      ]
     },
     "execution_count": 2,
     "metadata": {},
     "output_type": "execute_result"
    }
   ],
   "source": [
    "data.head()"
   ]
  },
  {
   "cell_type": "code",
   "execution_count": 3,
   "metadata": {},
   "outputs": [],
   "source": [
    "# Calculate response rate, conversion rate, and cost per customer\n",
    "data['Response Rate'] = data['Responses'] / (data['Emails Sent'] + data['Direct Mail Sent'])\n",
    "data['Conversion Rate'] = data['Conversions'] / data['Responses']\n",
    "data['Cost per Customer'] = (data['Email Cost'] + data['Direct Mail Cost'] + data['Social Cost'] +\n",
    "                                data['Paid Cost'] + data['Out of Home Cost'] + data['Radio Cost'] +\n",
    "                                data['Community Cost'] + data['Internal Cost']) / data['Conversions']"
   ]
  },
  {
   "cell_type": "code",
   "execution_count": 4,
   "metadata": {},
   "outputs": [
    {
     "data": {
      "text/html": [
       "<div>\n",
       "<style scoped>\n",
       "    .dataframe tbody tr th:only-of-type {\n",
       "        vertical-align: middle;\n",
       "    }\n",
       "\n",
       "    .dataframe tbody tr th {\n",
       "        vertical-align: top;\n",
       "    }\n",
       "\n",
       "    .dataframe thead th {\n",
       "        text-align: right;\n",
       "    }\n",
       "</style>\n",
       "<table border=\"1\" class=\"dataframe\">\n",
       "  <thead>\n",
       "    <tr style=\"text-align: right;\">\n",
       "      <th></th>\n",
       "      <th>Email Cost</th>\n",
       "      <th>Direct Mail Cost</th>\n",
       "      <th>Social Cost</th>\n",
       "      <th>Paid Cost</th>\n",
       "      <th>Out of Home Cost</th>\n",
       "      <th>Radio Cost</th>\n",
       "      <th>Community Cost</th>\n",
       "      <th>Internal Cost</th>\n",
       "      <th>Emails Sent</th>\n",
       "      <th>Direct Mail Sent</th>\n",
       "      <th>Responses</th>\n",
       "      <th>Conversions</th>\n",
       "      <th>Response Rate</th>\n",
       "      <th>Conversion Rate</th>\n",
       "      <th>Cost per Customer</th>\n",
       "    </tr>\n",
       "  </thead>\n",
       "  <tbody>\n",
       "    <tr>\n",
       "      <th>0</th>\n",
       "      <td>4000</td>\n",
       "      <td>2000</td>\n",
       "      <td>1000</td>\n",
       "      <td>3000</td>\n",
       "      <td>2500</td>\n",
       "      <td>1500</td>\n",
       "      <td>1000</td>\n",
       "      <td>500</td>\n",
       "      <td>10000</td>\n",
       "      <td>5000</td>\n",
       "      <td>1000</td>\n",
       "      <td>250</td>\n",
       "      <td>0.066667</td>\n",
       "      <td>0.25</td>\n",
       "      <td>62.000000</td>\n",
       "    </tr>\n",
       "    <tr>\n",
       "      <th>1</th>\n",
       "      <td>4800</td>\n",
       "      <td>2400</td>\n",
       "      <td>1200</td>\n",
       "      <td>3600</td>\n",
       "      <td>3000</td>\n",
       "      <td>1800</td>\n",
       "      <td>1200</td>\n",
       "      <td>600</td>\n",
       "      <td>12000</td>\n",
       "      <td>6000</td>\n",
       "      <td>1200</td>\n",
       "      <td>300</td>\n",
       "      <td>0.066667</td>\n",
       "      <td>0.25</td>\n",
       "      <td>62.000000</td>\n",
       "    </tr>\n",
       "    <tr>\n",
       "      <th>2</th>\n",
       "      <td>6000</td>\n",
       "      <td>3000</td>\n",
       "      <td>1500</td>\n",
       "      <td>4500</td>\n",
       "      <td>3500</td>\n",
       "      <td>2000</td>\n",
       "      <td>1500</td>\n",
       "      <td>750</td>\n",
       "      <td>15000</td>\n",
       "      <td>7500</td>\n",
       "      <td>1800</td>\n",
       "      <td>450</td>\n",
       "      <td>0.080000</td>\n",
       "      <td>0.25</td>\n",
       "      <td>50.555556</td>\n",
       "    </tr>\n",
       "  </tbody>\n",
       "</table>\n",
       "</div>"
      ],
      "text/plain": [
       "   Email Cost  Direct Mail Cost  Social Cost  Paid Cost  Out of Home Cost  \\\n",
       "0        4000              2000         1000       3000              2500   \n",
       "1        4800              2400         1200       3600              3000   \n",
       "2        6000              3000         1500       4500              3500   \n",
       "\n",
       "   Radio Cost  Community Cost  Internal Cost  Emails Sent  Direct Mail Sent  \\\n",
       "0        1500            1000            500        10000              5000   \n",
       "1        1800            1200            600        12000              6000   \n",
       "2        2000            1500            750        15000              7500   \n",
       "\n",
       "   Responses  Conversions  Response Rate  Conversion Rate  Cost per Customer  \n",
       "0       1000          250       0.066667             0.25          62.000000  \n",
       "1       1200          300       0.066667             0.25          62.000000  \n",
       "2       1800          450       0.080000             0.25          50.555556  "
      ]
     },
     "execution_count": 4,
     "metadata": {},
     "output_type": "execute_result"
    }
   ],
   "source": [
    "data.head()"
   ]
  },
  {
   "cell_type": "markdown",
   "metadata": {},
   "source": [
    "#### 3. Generate Series of Random Variables\n",
    "\n",
    "Use NumPy's random number generator"
   ]
  },
  {
   "cell_type": "code",
   "execution_count": 6,
   "metadata": {},
   "outputs": [],
   "source": [
    "# Define the random variables for the simulation\n",
    "num_simulations = 1000\n",
    "# syntax is np.random.randint(low, high, number of simulations)\n",
    "email_sent = np.random.randint(150000, 250001, size=num_simulations) \n",
    "direct_mail_sent = np.random.randint(150000, 300001, size=num_simulations)\n",
    "response_rate = np.random.normal(data['Response Rate'].mean(), data['Response Rate'].std(), size=num_simulations)\n",
    "conversion_rate = np.random.normal(data['Conversion Rate'].mean(), data['Conversion Rate'].std(), size=num_simulations)\n",
    "cost_per_customer = np.random.normal(data['Cost per Customer'].mean(), data['Cost per Customer'].std(), size=num_simulations)"
   ]
  },
  {
   "cell_type": "markdown",
   "metadata": {},
   "source": [
    "#### 4. Calculate Total Cost for Each Sumulation"
   ]
  },
  {
   "cell_type": "code",
   "execution_count": 7,
   "metadata": {},
   "outputs": [],
   "source": [
    "# Calculate the total cost for each simulation\n",
    "total_cost = (email_sent + direct_mail_sent) * cost_per_customer"
   ]
  },
  {
   "cell_type": "markdown",
   "metadata": {},
   "source": [
    "#### 5. Simulation"
   ]
  },
  {
   "cell_type": "code",
   "execution_count": 9,
   "metadata": {},
   "outputs": [],
   "source": [
    "# Repeat the simulation multiple times\n",
    "revenues = []\n",
    "for i in range(num_simulations):\n",
    "    # Calculate the number of responses and conversions based on the random variables\n",
    "    num_responses = int(email_sent[i] * response_rate[i] + direct_mail_sent[i] * response_rate[i])\n",
    "    num_conversions = int(num_responses * conversion_rate[i])\n",
    "    \n",
    "    # Calculate the revenue for this simulation\n",
    "    revenue = num_conversions * data['Cost per Customer'].mean()\n",
    "    revenues.append(revenue)"
   ]
  },
  {
   "cell_type": "markdown",
   "metadata": {},
   "source": [
    "#### 6. Visualize Distributions of Revenues"
   ]
  },
  {
   "cell_type": "code",
   "execution_count": 11,
   "metadata": {},
   "outputs": [
    {
     "data": {
      "image/png": "[encoded data removed]",
      "text/plain": [
       "<Figure size 432x288 with 1 Axes>"
      ]
     },
     "metadata": {
      "needs_background": "light"
     },
     "output_type": "display_data"
    }
   ],
   "source": [
    "import matplotlib.pyplot as plt\n",
    "%matplotlib inline\n",
    "\n",
    "# Visualize the distribution of revenues\n",
    "plt.hist(revenues, bins=20)\n",
    "plt.xlabel('Revenue')\n",
    "plt.ylabel('Frequency')\n",
    "plt.show()"
   ]
  },
  {
   "cell_type": "markdown",
   "metadata": {},
   "source": [
    "#### 7. Analyze Results"
   ]
  },
  {
   "cell_type": "markdown",
   "metadata": {},
   "source": []
  }
 ],
 "metadata": {
  "kernelspec": {
   "display_name": "Python 3.7.3",
   "language": "python",
   "name": "python3"
  },
  "language_info": {
   "codemirror_mode": {
    "name": "ipython",
    "version": 3
   },
   "file_extension": ".py",
   "mimetype": "text/x-python",
   "name": "python",
   "nbconvert_exporter": "python",
   "pygments_lexer": "ipython3",
   "version": "3.7.3"
  },
  "orig_nbformat": 4,
  "vscode": {
   "interpreter": {
    "hash": "ad2bdc8ecc057115af97d19610ffacc2b4e99fae6737bb82f5d7fb13d2f2c186"
   }
  }
 },
 "nbformat": 4,
 "nbformat_minor": 2
}
